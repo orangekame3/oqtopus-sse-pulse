{
 "cells": [
  {
   "cell_type": "markdown",
   "id": "171b40e7",
   "metadata": {},
   "source": [
    "- ver0.0 2025/10/27 雛形を作成 (小川)\n",
    "- ver0.1 2025/11/01 章立てを作成 (小川)"
   ]
  },
  {
   "cell_type": "markdown",
   "id": "19e20db6",
   "metadata": {},
   "source": [
    "<span style=\"color: red; \">**examples/2Q-calibrationのフォルダをご自身のworkspaceに移動させてから, 実験を行ってください.**</span>"
   ]
  },
  {
   "cell_type": "markdown",
   "id": "6a238f7c",
   "metadata": {},
   "source": [
    "## クラウド設定\n",
    "\n",
    "一度だけ実行すれば良い."
   ]
  },
  {
   "cell_type": "code",
   "execution_count": null,
   "id": "01d505a0",
   "metadata": {},
   "outputs": [
    {
     "name": "stdout",
     "output_type": "stream",
     "text": [
      "Configuration saved.\n"
     ]
    }
   ],
   "source": [
    "# from pathlib import Path\n",
    "\n",
    "# config = \"\"\"[default]\n",
    "# url=https://api.qiqb-cloud.jp\n",
    "# api_token=xxxxxxx\n",
    "# \"\"\"\n",
    "# Path(\"~/.oqtopus\").expanduser().write_text(config)\n",
    "# print(\"Configuration saved.\")"
   ]
  },
  {
   "cell_type": "markdown",
   "id": "407f43c2",
   "metadata": {},
   "source": [
    "QIQBクラウドのリンク：https://www.qiqb-cloud.jp/  \n",
    "  \n",
    "「ジョブ」のタブで, 実行済み・実行中のジョブを確認することができます. "
   ]
  },
  {
   "cell_type": "markdown",
   "id": "e4a2700f",
   "metadata": {},
   "source": [
    "## 2qubitの較正 "
   ]
  },
  {
   "cell_type": "code",
   "execution_count": 1,
   "id": "51b312c1",
   "metadata": {},
   "outputs": [],
   "source": [
    "from quri_parts_oqtopus.backend import OqtopusSseBackend\n",
    "from oqtopus_sse_pulse.adapter import QuriAdapter, collect_payloads_from_job, collect_session_from_job\n",
    "from oqtopus_sse_pulse.plotters import plot_payload\n",
    "\n",
    "import numpy as np\n",
    "%matplotlib inline\n",
    "import matplotlib.pyplot as plt\n",
    "\n",
    "DEVICE = \"anemone\" # デバイス名 (勉強会ではanemoneに固定)\n",
    "backend = OqtopusSseBackend() # OqtopusSseBackendのインスタンスを作成"
   ]
  },
  {
   "cell_type": "code",
   "execution_count": 2,
   "id": "aad057b3",
   "metadata": {},
   "outputs": [],
   "source": [
    "def experiment(program: str) -> list:\n",
    "    \"\"\"\n",
    "    指定した実験プログラムを実行し, 測定結果のペイロードを返す関数.\n",
    "    \"\"\"\n",
    "\n",
    "    # ジョブの実行\n",
    "    job = backend.run_sse(\n",
    "        file_path=f\"{program}.py\",\n",
    "        device_id=f\"{DEVICE}-pulse\",\n",
    "        name=program,\n",
    "    )\n",
    "    print(f\"job_id = {job.job_id}\")\n",
    "\n",
    "    # ジョブの完了待ち\n",
    "    job.wait_for_completion()\n",
    "    print(f\"job_status = {job.status}  elapsed={job.execution_time}\")\n",
    "\n",
    "    # QuriAdapterの作成\n",
    "    adapter = QuriAdapter(backend)\n",
    "\n",
    "    # 測定結果の取得\n",
    "    payloads = collect_payloads_from_job(\n",
    "        backend=adapter,\n",
    "        job_id=job.job_id,\n",
    "    )\n",
    "    \n",
    "    return payloads"
   ]
  },
  {
   "cell_type": "markdown",
   "id": "648c7952",
   "metadata": {},
   "source": [
    "### 使用する2qubitそれぞれの較正"
   ]
  },
  {
   "cell_type": "markdown",
   "id": "f2908dc0",
   "metadata": {},
   "source": [
    "事前に`1Q-calib.ipynb`を実行して, 使用する2つのqubitのhpiパルスの較正と読み出し分類器の調整を行っておいてください."
   ]
  },
  {
   "cell_type": "markdown",
   "id": "52534386",
   "metadata": {},
   "source": [
    "### 交差共鳴ゲート較正1：ZXハミルトニアンの生成 (TBD)"
   ]
  },
  {
   "cell_type": "markdown",
   "id": "4fc4dedc",
   "metadata": {},
   "source": [
    "まずはcontrol = 0, 1の時にCRパルスだけ打って, tragetをX,Y,Z測定して観察. "
   ]
  },
  {
   "cell_type": "markdown",
   "id": "b921ec18",
   "metadata": {},
   "source": [
    "target qubitの回転は, $Z\\times(c_xX+c_yY)とI(d_xX+d_yY)$によるもの.  \n",
    "control qubitが0, 1の時, targetはそれぞれ$(\\pm c_x+d_x)X+(\\pm c_y+d_y)Y$の回転が生じる.  \n",
    "ハミルトニアントモグラフィによって各係数を求めて, CRパルスの回転角の調整とキャンセルパルスの調整を行うことができる.   "
   ]
  },
  {
   "cell_type": "markdown",
   "id": "1990fedb",
   "metadata": {},
   "source": [
    "IX, IY, IZ, ZX, ZY, ZZのうち, ZXのみが残ることを確かめる. "
   ]
  },
  {
   "cell_type": "markdown",
   "id": "6184df6c",
   "metadata": {},
   "source": [
    "### 交差共鳴ゲート較正2：ZX90パルスの較正 (TBD)"
   ]
  },
  {
   "cell_type": "markdown",
   "id": "1eba763b",
   "metadata": {},
   "source": [
    "パルス長を調整してZX90回転に調整する"
   ]
  },
  {
   "cell_type": "markdown",
   "id": "9297a036",
   "metadata": {},
   "source": [
    "繰り返しZX90を打って, 確認.  \n",
    "controlとtargetの役割の入れ替え. "
   ]
  },
  {
   "cell_type": "markdown",
   "id": "65d1dadf",
   "metadata": {},
   "source": [
    "ZI90とIX90をつけると、CNOTが実現できる.  \n",
    "繰り返し打って確認. "
   ]
  },
  {
   "cell_type": "markdown",
   "id": "fa57fa19",
   "metadata": {},
   "source": [
    "### 2Q Randomized Benchmarking (TBD)"
   ]
  },
  {
   "cell_type": "markdown",
   "id": "9b321f26",
   "metadata": {},
   "source": [
    "### 応用1：ベル状態生成 (TBD)"
   ]
  },
  {
   "cell_type": "markdown",
   "id": "66546ad7",
   "metadata": {},
   "source": [
    "### 応用2：ベルの不等式の破れの確認 (TBD)"
   ]
  },
  {
   "cell_type": "markdown",
   "id": "dc66c97b",
   "metadata": {},
   "source": [
    "### 応用3：2qubit VQEの実装 (TBD)"
   ]
  },
  {
   "cell_type": "markdown",
   "id": "b9dbf497",
   "metadata": {},
   "source": []
  }
 ],
 "metadata": {
  "kernelspec": {
   "display_name": "oqtopus-sse-pulse (3.10.18)",
   "language": "python",
   "name": "python3"
  },
  "language_info": {
   "codemirror_mode": {
    "name": "ipython",
    "version": 3
   },
   "file_extension": ".py",
   "mimetype": "text/x-python",
   "name": "python",
   "nbconvert_exporter": "python",
   "pygments_lexer": "ipython3",
   "version": "3.10.18"
  }
 },
 "nbformat": 4,
 "nbformat_minor": 5
}
