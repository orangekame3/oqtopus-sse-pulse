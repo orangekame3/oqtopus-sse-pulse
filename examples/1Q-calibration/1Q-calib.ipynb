{
 "cells": [
  {
   "cell_type": "markdown",
   "id": "171b40e7",
   "metadata": {},
   "source": [
    "- ver0.0 2025/10/27 シェブロンパターン測定まで準備 (小川)"
   ]
  },
  {
   "cell_type": "markdown",
   "id": "19e20db6",
   "metadata": {},
   "source": [
    "<span style=\"color: red; \">**examples/1Q-calibrationのフォルダをご自身のworkspaceに移動させてから, 実験を行ってください.**</span>"
   ]
  },
  {
   "cell_type": "markdown",
   "id": "6a238f7c",
   "metadata": {},
   "source": [
    "## クラウド設定\n",
    "\n",
    "一度だけ実行すれば良い."
   ]
  },
  {
   "cell_type": "code",
   "execution_count": null,
   "id": "01d505a0",
   "metadata": {},
   "outputs": [
    {
     "name": "stdout",
     "output_type": "stream",
     "text": [
      "Configuration saved.\n"
     ]
    }
   ],
   "source": [
    "# from pathlib import Path\n",
    "\n",
    "# config = \"\"\"[default]\n",
    "# url=https://api.qiqb-cloud.jp\n",
    "# api_token=xxxxxxx\n",
    "# \"\"\"\n",
    "# Path(\"~/.oqtopus\").expanduser().write_text(config)\n",
    "# print(\"Configuration saved.\")"
   ]
  },
  {
   "cell_type": "markdown",
   "id": "407f43c2",
   "metadata": {},
   "source": [
    "QIQBクラウドのリンク：https://www.qiqb-cloud.jp/  \n",
    "  \n",
    "「ジョブ」のタブで, 実行済み・実行中のジョブを確認することができる. "
   ]
  },
  {
   "cell_type": "markdown",
   "id": "e4a2700f",
   "metadata": {},
   "source": [
    "## 1qubitの較正 "
   ]
  },
  {
   "cell_type": "code",
   "execution_count": 1,
   "id": "51b312c1",
   "metadata": {},
   "outputs": [],
   "source": [
    "from quri_parts_oqtopus.backend import OqtopusSseBackend\n",
    "from oqtopus_sse_pulse.adapter import QuriAdapter, collect_payloads_from_job, collect_session_from_job\n",
    "from oqtopus_sse_pulse.plotters import plot_payload\n",
    "\n",
    "DEVICE = \"anemone\" # デバイス名 (勉強会ではanemoneに固定)\n",
    "backend = OqtopusSseBackend() # OqtopusSseBackendのインスタンスを作成"
   ]
  },
  {
   "cell_type": "markdown",
   "id": "279c120c",
   "metadata": {},
   "source": [
    "### シェブロンパターン測定"
   ]
  },
  {
   "cell_type": "markdown",
   "id": "f5e0e721",
   "metadata": {},
   "source": [
    "- `1Q-calib-1_chevron_pattern.py`内を確認し, <span style=\"color: red; \">**各測定パラメータを適切に設定してから**</span>, 以下を実行する. "
   ]
  },
  {
   "cell_type": "code",
   "execution_count": 3,
   "id": "7bd0cc57",
   "metadata": {},
   "outputs": [
    {
     "name": "stdout",
     "output_type": "stream",
     "text": [
      "job_id = 068ff27e-1e59-7e1e-8000-9237e30971f6\n",
      "job_status = succeeded  elapsed=43.47\n"
     ]
    },
    {
     "data": {
      "image/png": "[encoded data removed]",
      "text/plain": [
       "<Figure size 600x400 with 2 Axes>"
      ]
     },
     "metadata": {},
     "output_type": "display_data"
    }
   ],
   "source": [
    "# 実験プログラムの指定\n",
    "PROGRAM = \"1Q-calib-1_chevron_pattern\"\n",
    "\n",
    "# ジョブの実行\n",
    "job = backend.run_sse(\n",
    "    file_path=f\"{PROGRAM}.py\",\n",
    "    device_id=f\"{DEVICE}-pulse\",\n",
    "    name=PROGRAM,\n",
    ")\n",
    "print(f\"job_id = {job.job_id}\")\n",
    "\n",
    "# ジョブの完了待ち\n",
    "job.wait_for_completion()\n",
    "print(f\"job_status = {job.status}  elapsed={job.execution_time}\")\n",
    "\n",
    "# QuriAdapterの作成\n",
    "adapter = QuriAdapter(backend)\n",
    "\n",
    "# 測定結果の取得\n",
    "payloads = collect_payloads_from_job(\n",
    "    backend=adapter,\n",
    "    job_id=job.job_id,\n",
    ")\n",
    "\n",
    "# グラフ描画\n",
    "p = payloads[0]\n",
    "fig, ax = plot_payload(p, program=PROGRAM)"
   ]
  },
  {
   "cell_type": "markdown",
   "id": "b0837bb6",
   "metadata": {},
   "source": [
    "- 得られたシェブロンパターンから, このqubitの共鳴周波数を求めたい. 各駆動周波数におけるラビ振動をフーリエ変換して各ラビ周波数を計算し, それらのデータ点にフィッティングを行うことにより, ラビ振動が最小となる駆動周波数を算出する (<span style=\"color: red; \">**自主作業**</span>). \n",
    "- フィッティング関数は以下の通り:\n",
    "$$ f_{\\rm rabi} = \\sqrt{(f_{\\rm q} - f_{\\rm d})^2 + f_{\\rm rabi,min}^2} $$\n",
    "- ここで$f_{\\rm rabi}$は各駆動周波数におけるラビ振動周波数, $f_{\\rm q}$はqubitの共鳴周波数, $f_{\\rm d}$はマイクロ波駆動周波数, $f_{\\rm rabi,min}$は共鳴駆動条件で現れる最小ラビ振動周波数である. $f_{\\rm d}$は掃引パラメータ, $f_{\\rm q}$, $f_{\\rm rabi,min}$はフィッティングによって決定されるパラメータである.\n",
    "- [補足]\n",
    "  - マイクロ波駆動振幅を大きくすると, それに比例してラビ振動周波数が大きくなるが, それだけでなく, 上記フィッティングで得られるqubit共鳴周波数にも微小なシフトが観測されるはずである. これはac-シュタルク効果と呼ばれる現象で, 一般にマイクロ波駆動中のqubitは駆動の影響を受けてその共鳴周波数が微小にシフトする. ゲート忠実度を突き詰める場合には, DRAGなどのテクニックによってこのシフトの影響を考慮したパルス設計を行う必要がある. \n",
    "  - シェブロンパターンを細かく測定すると, qubitの共鳴とは別に細い共鳴信号が見えることがある. これは多くの場合, トランズモン中または近くの不純物によって生じる不要2準位系(two-level system: TLS)の共鳴が見えているものだと考えられる. TLSの共鳴周波数がqubitの共鳴周波数に近かったり, qubitとの結合が大きかったりすると, qubitのコヒーレンス性能の悪化をもたらす. さらにTLSは数時間〜数日の時間スケールで特性が変化することがあり, これがqubitの時間安定性にも影響を与える. "
   ]
  },
  {
   "cell_type": "markdown",
   "id": "59c21897",
   "metadata": {},
   "source": [
    "### π/2パルス較正 (TBD)"
   ]
  },
  {
   "cell_type": "markdown",
   "id": "71d62405",
   "metadata": {},
   "source": [
    "### コヒーレンス測定 (TBD)"
   ]
  },
  {
   "cell_type": "markdown",
   "id": "19fbf843",
   "metadata": {},
   "source": [
    "#### T1測定 (TBD)"
   ]
  },
  {
   "cell_type": "markdown",
   "id": "a8a95969",
   "metadata": {},
   "source": [
    "#### T2 echo測定 (TBD)"
   ]
  },
  {
   "cell_type": "markdown",
   "id": "12a4e0e8",
   "metadata": {},
   "source": [
    "#### Ramsey干渉実験 (TBD)"
   ]
  },
  {
   "cell_type": "markdown",
   "id": "c8be74dd",
   "metadata": {},
   "source": [
    "### 読み出し分類機調整 (TBD)"
   ]
  },
  {
   "cell_type": "markdown",
   "id": "9b130f57",
   "metadata": {},
   "source": [
    "### Randomized Benchmarking (TBD)"
   ]
  },
  {
   "cell_type": "markdown",
   "id": "e3463137",
   "metadata": {},
   "source": []
  }
 ],
 "metadata": {
  "kernelspec": {
   "display_name": "oqtopus-sse-pulse (3.10.18)",
   "language": "python",
   "name": "python3"
  },
  "language_info": {
   "codemirror_mode": {
    "name": "ipython",
    "version": 3
   },
   "file_extension": ".py",
   "mimetype": "text/x-python",
   "name": "python",
   "nbconvert_exporter": "python",
   "pygments_lexer": "ipython3",
   "version": "3.10.18"
  }
 },
 "nbformat": 4,
 "nbformat_minor": 5
}
